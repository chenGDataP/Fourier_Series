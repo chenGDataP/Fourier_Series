{
 "cells": [
  {
   "cell_type": "markdown",
   "id": "b51a6a9f",
   "metadata": {},
   "source": [
    "**Se importan las librerías**"
   ]
  },
  {
   "cell_type": "code",
   "execution_count": 9,
   "id": "b9a8fd5e",
   "metadata": {},
   "outputs": [],
   "source": [
    "import numpy as np\n",
    "import matplotlib.pyplot as plt\n",
    "from IPython.display import display, clear_output"
   ]
  },
  {
   "cell_type": "markdown",
   "id": "77d4cac8",
   "metadata": {},
   "source": [
    "**Se define la función escalón**"
   ]
  },
  {
   "cell_type": "code",
   "execution_count": 2,
   "id": "ab45ddf5",
   "metadata": {},
   "outputs": [],
   "source": [
    "def funcion_escalon(x): #la funcion así definida toma valor 0 para x<=0 y valor 1 para x>0\n",
    "    y = [0]*len(x)      \n",
    "    for i in range(len(x)):\n",
    "        if x[i]<=0: \n",
    "            y[i]=0\n",
    "        else:\n",
    "            y[i]=1\n",
    "    return y"
   ]
  },
  {
   "cell_type": "markdown",
   "id": "1cf6e723",
   "metadata": {},
   "source": [
    "**Se definen las variables de entrada y de salida**"
   ]
  },
  {
   "cell_type": "code",
   "execution_count": 5,
   "id": "c0a06358",
   "metadata": {},
   "outputs": [],
   "source": [
    "#Variables de entrada\n",
    "a_0 = 0.5 #término a_0 de la serie de Fourier\n",
    "a_n = 0  #a_n vale cero en este caso, está definida aunque no se use, esto es para indicar qude la función escalón así definida es impar y los terminos con cosenos son nulos en la serie de Fourier\n",
    "b_n = lambda n: 2./(n*np.pi) #previamente calculada su expresión haciendo la integral\n",
    "n = 31 #n es el número de términos que se hace en la suma de Fourier\n",
    "x = np.linspace(-np.pi,+np.pi,500) #el rango de x que se toma es de -np.pi a +np.pi\n",
    "\n",
    "#Variables de salida\n",
    "SF = 0 #variable que corresponde a la suma de Fourier\n",
    "yF = [0]*len(x) #en esta variable guardo los resultados de la suma de fourier para cada x\n",
    "f_esc = funcion_escalon(x) #funcion escalon en cuestion"
   ]
  },
  {
   "cell_type": "markdown",
   "id": "6d5df8fc",
   "metadata": {},
   "source": [
    "**Algoritmo junto con el plot de la función escalón y de la serie de Fourier para distintos n de la serie**"
   ]
  },
  {
   "cell_type": "code",
   "execution_count": 13,
   "id": "ed61b14e",
   "metadata": {},
   "outputs": [
    {
     "data": {
      "image/png": "[encoded data removed]",
      "text/plain": [
       "<Figure size 432x288 with 1 Axes>"
      ]
     },
     "metadata": {
      "needs_background": "light"
     },
     "output_type": "display_data"
    }
   ],
   "source": [
    "for m in range(1,n,2):\n",
    "    \n",
    "    for i in range(len(x)):\n",
    "        SF=a_0\n",
    "        for k in range(1,m+1,2):\n",
    "            SF+= b_n(k)*np.sin(k*x[i])\n",
    "        yF[i]=SF\n",
    "\n",
    "    fig = plt.figure()\n",
    "    ax = fig.add_subplot(1, 1, 1)     \n",
    "    ax.set_xlim(-np.pi,+np.pi)    \n",
    "    ax.cla()\n",
    "    ax.plot(x, yF,'b-',label=f'Serie de Fourier con n={m}')\n",
    "    ax.plot(x,f_esc,'r-',label=('Funcion'))\n",
    "    ax.set_xlabel('x')\n",
    "    ax.set_ylabel('y')\n",
    "    ax.grid(True)\n",
    "    plt.legend(loc='upper left')\n",
    "    display(fig)\n",
    "    clear_output(wait = True)\n",
    "\n",
    "    \n",
    "    plt.pause(0.2)"
   ]
  },
  {
   "cell_type": "code",
   "execution_count": null,
   "id": "f0b68213",
   "metadata": {},
   "outputs": [],
   "source": []
  },
  {
   "cell_type": "code",
   "execution_count": null,
   "id": "d83eaa92",
   "metadata": {},
   "outputs": [],
   "source": []
  }
 ],
 "metadata": {
  "kernelspec": {
   "display_name": "Python 3 (ipykernel)",
   "language": "python",
   "name": "python3"
  },
  "language_info": {
   "codemirror_mode": {
    "name": "ipython",
    "version": 3
   },
   "file_extension": ".py",
   "mimetype": "text/x-python",
   "name": "python",
   "nbconvert_exporter": "python",
   "pygments_lexer": "ipython3",
   "version": "3.9.7"
  }
 },
 "nbformat": 4,
 "nbformat_minor": 5
}
